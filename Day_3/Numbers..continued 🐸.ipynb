{
 "cells": [
  {
   "cell_type": "markdown",
   "id": "accbe62f",
   "metadata": {},
   "source": [
    "## ARMSTRONG NUMBER"
   ]
  },
  {
   "cell_type": "code",
   "execution_count": null,
   "id": "39323a84",
   "metadata": {},
   "outputs": [
    {
     "name": "stdout",
     "output_type": "stream",
     "text": [
      "Not Armstrong\n"
     ]
    }
   ],
   "source": [
    "##attempt 1\n",
    "\n",
    "\n",
    "n = 153\n",
    "total = 0\n",
    "nod = len(str(n))\n",
    "num = n\n",
    "while num > 0:\n",
    "    x = num % 10\n",
    "    total = x**nod \n",
    "    num = num // 10\n",
    "    total += total ##BUG \n",
    "if total == n:\n",
    "    print(\"Armstrong\")\n",
    "else:\n",
    "    print(\"Not Armstrong\")"
   ]
  },
  {
   "cell_type": "code",
   "execution_count": 3,
   "id": "2d30ba16",
   "metadata": {},
   "outputs": [
    {
     "name": "stdout",
     "output_type": "stream",
     "text": [
      "Armstrong\n"
     ]
    }
   ],
   "source": [
    "n = 153\n",
    "total = 0\n",
    "nod = len(str(n))\n",
    "num = n\n",
    "while num > 0:\n",
    "    x = num % 10\n",
    "    total = x**nod  + total\n",
    "    num = num // 10\n",
    "if total == n:\n",
    "    print(\"Armstrong\")\n",
    "else:\n",
    "    print(\"Not Armstrong\")"
   ]
  },
  {
   "cell_type": "code",
   "execution_count": 5,
   "id": "45532137",
   "metadata": {},
   "outputs": [
    {
     "name": "stdout",
     "output_type": "stream",
     "text": [
      "Armstrong\n"
     ]
    }
   ],
   "source": [
    "## way 2\n",
    "\n",
    "n = 153\n",
    "nod = len(str(n))\n",
    "total = sum(int(d)**nod for d in str(n))\n",
    "\n",
    "print(\"Armstrong\" if total == n else \"Not Armstrong\")\n"
   ]
  },
  {
   "cell_type": "markdown",
   "id": "08ca1426",
   "metadata": {},
   "source": [
    "## Prime Factors"
   ]
  },
  {
   "cell_type": "code",
   "execution_count": 12,
   "id": "b09df00d",
   "metadata": {},
   "outputs": [
    {
     "name": "stdout",
     "output_type": "stream",
     "text": [
      "1\n",
      "2\n",
      "4\n",
      "8\n",
      "11\n",
      "22\n",
      "44\n",
      "73\n",
      "88\n",
      "101\n",
      "137\n",
      "146\n",
      "202\n",
      "274\n",
      "292\n",
      "404\n",
      "548\n",
      "584\n",
      "803\n",
      "808\n",
      "1096\n",
      "1111\n",
      "1507\n",
      "1606\n",
      "2222\n",
      "3014\n",
      "3212\n",
      "4444\n",
      "6028\n",
      "6424\n",
      "7373\n",
      "8888\n",
      "10001\n",
      "12056\n",
      "13837\n",
      "14746\n",
      "20002\n",
      "27674\n",
      "29492\n",
      "40004\n",
      "55348\n",
      "58984\n",
      "80008\n",
      "81103\n",
      "110011\n",
      "110696\n",
      "152207\n",
      "162206\n",
      "220022\n",
      "304414\n",
      "324412\n",
      "440044\n",
      "608828\n",
      "648824\n",
      "880088\n",
      "1010101\n",
      "1217656\n",
      "2020202\n",
      "4040404\n",
      "8080808\n",
      "11111111\n",
      "22222222\n",
      "44444444\n",
      "88888888\n"
     ]
    }
   ],
   "source": [
    "n = int(input())\n",
    "num = n\n",
    "for i in range(1, n+1):\n",
    "    if i ==0:\n",
    "        raise ValueError(\"Division by zero is not allowed.\")\n",
    "    else:\n",
    "        if n % i == 0:\n",
    "            print(i)\n",
    "\n"
   ]
  },
  {
   "cell_type": "code",
   "execution_count": null,
   "id": "3b670dc0",
   "metadata": {},
   "outputs": [
    {
     "name": "stdout",
     "output_type": "stream",
     "text": [
      "[1, 3, 9, 11, 33, 99]\n"
     ]
    }
   ],
   "source": [
    "from math import isqrt\n",
    "n = int(input())\n",
    "result = []\n",
    "for i in range(1, isqrt(n) + 1):\n",
    "    if n % i == 0:\n",
    "        result.append(i)\n",
    "        if i != n // i:  # This line avoids duplicates only when i == n // i, which happens only when n is a perfect square.\n",
    "            result.append(n // i) # adds the last factor that is the no. itself🗿\n",
    "result.sort()\n",
    "print(result)"
   ]
  },
  {
   "cell_type": "code",
   "execution_count": null,
   "id": "9d9610a0",
   "metadata": {},
   "outputs": [],
   "source": []
  }
 ],
 "metadata": {
  "kernelspec": {
   "display_name": "super-ai-env",
   "language": "python",
   "name": "python3"
  },
  "language_info": {
   "codemirror_mode": {
    "name": "ipython",
    "version": 3
   },
   "file_extension": ".py",
   "mimetype": "text/x-python",
   "name": "python",
   "nbconvert_exporter": "python",
   "pygments_lexer": "ipython3",
   "version": "3.10.18"
  }
 },
 "nbformat": 4,
 "nbformat_minor": 5
}
