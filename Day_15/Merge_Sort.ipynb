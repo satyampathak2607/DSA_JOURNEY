{
 "cells": [
  {
   "cell_type": "markdown",
   "id": "84127498",
   "metadata": {},
   "source": [
    "## MERGE_SORT"
   ]
  },
  {
   "cell_type": "code",
   "execution_count": 7,
   "id": "ddc8c2cd",
   "metadata": {},
   "outputs": [
    {
     "data": {
      "text/plain": [
       "[0, 1, 1, 3, 3, 4, 5, 6, 7, 8, 9, 11, 13]"
      ]
     },
     "execution_count": 7,
     "metadata": {},
     "output_type": "execute_result"
    }
   ],
   "source": [
    "arr = [3,1,3,1,4,5,6,7,8,9,0,11,13] \n",
    "def merge_sort(arr):\n",
    "    if len(arr)<=1:\n",
    "        return arr\n",
    "    mid = len(arr)//2\n",
    "    left_arr =arr[:mid]\n",
    "    right_arr =arr[mid :]\n",
    "    left = merge_sort(left_arr)\n",
    "    right = merge_sort(right_arr)\n",
    "    return merge_array(left,right)\n",
    "\n",
    "def merge_array(left,right):\n",
    "    result = []\n",
    "    i,j = 0,0\n",
    "    n,m = len(left),len(right)\n",
    "\n",
    "    while i<n and j<m:\n",
    "        if left[i] <= right[j]:\n",
    "            result.append(left[i])\n",
    "            i+=1\n",
    "        else:\n",
    "            result.append(right[j])\n",
    "            j+=1\n",
    "\n",
    "    if i<n:\n",
    "        while i<n:\n",
    "            result.append(left[i])\n",
    "            i+=1\n",
    "\n",
    "    if j<m:\n",
    "        while j<m:\n",
    "            result.append(right[j])\n",
    "            j+=1\n",
    "\n",
    "    return result\n",
    "merge_sort(arr)"
   ]
  },
  {
   "cell_type": "code",
   "execution_count": null,
   "id": "78590907",
   "metadata": {},
   "outputs": [],
   "source": []
  }
 ],
 "metadata": {
  "kernelspec": {
   "display_name": "super-ai-env",
   "language": "python",
   "name": "python3"
  },
  "language_info": {
   "codemirror_mode": {
    "name": "ipython",
    "version": 3
   },
   "file_extension": ".py",
   "mimetype": "text/x-python",
   "name": "python",
   "nbconvert_exporter": "python",
   "pygments_lexer": "ipython3",
   "version": "3.10.18"
  }
 },
 "nbformat": 4,
 "nbformat_minor": 5
}
