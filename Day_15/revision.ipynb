{
 "cells": [
  {
   "cell_type": "markdown",
   "id": "00790144",
   "metadata": {},
   "source": [
    "# LEETCODE_125"
   ]
  },
  {
   "cell_type": "markdown",
   "id": "d9d45314",
   "metadata": {},
   "source": [
    "### A phrase is a palindrome if, after converting all uppercase letters into lowercase letters and removing all non-alphanumeric characters, it reads the same forward and backward. Alphanumeric characters include letters and numbers.\n",
    "\n",
    "Given a string s, return true if it is a palindrome, or false otherwise.\n",
    "\n",
    " \n",
    "\n",
    "Example 1:\n",
    "\n",
    "Input: s = \"A man, a plan, a canal: Panama\"\n",
    "Output: true\n",
    "Explanation: \"amanaplanacanalpanama\" is a palindrome.\n",
    "\n",
    "Example 2:\n",
    "\n",
    "Input: s = \"race a car\"\n",
    "Output: false\n",
    "Explanation: \"raceacar\" is not a palindrome.\n",
    "Example 3:\n",
    "\n",
    "Input: s = \" \"\n",
    "Output: true\n",
    "Explanation: s is an empty string \"\" after removing non-alphanumeric characters.\n",
    "Since an empty string reads the same forward and backward, it is a palindrome."
   ]
  },
  {
   "cell_type": "code",
   "execution_count": null,
   "id": "9d17b101",
   "metadata": {},
   "outputs": [
    {
     "data": {
      "text/plain": [
       "True"
      ]
     },
     "execution_count": 40,
     "metadata": {},
     "output_type": "execute_result"
    }
   ],
   "source": [
    "s = \"A man, a plan, a canal: Panama\"\n",
    "def isPalindrome( s: str):\n",
    "   s = \"\".join(ch.lower() for ch in s if ch.isalnum())\n",
    "   x = s\n",
    "   n = len(s)\n",
    "   R = n-1\n",
    "   L = 0\n",
    "   while L<=R:\n",
    "      if s[L]!=s[R]:\n",
    "         return False\n",
    "      R-=1\n",
    "      L+=1\n",
    "   return True \n",
    "isPalindrome(s)"
   ]
  },
  {
   "cell_type": "markdown",
   "id": "01d891ab",
   "metadata": {},
   "source": [
    "## CHAD_WAY🗿🍷"
   ]
  },
  {
   "cell_type": "code",
   "execution_count": 32,
   "id": "219846dc",
   "metadata": {},
   "outputs": [
    {
     "data": {
      "text/plain": [
       "False"
      ]
     },
     "execution_count": 32,
     "metadata": {},
     "output_type": "execute_result"
    }
   ],
   "source": [
    "def isPalindromez( s: str):\n",
    "   s = \"\".join(ch.lower() for ch in s if ch.isalnum())\n",
    "   x = s\n",
    "   return s == s[::-1]\n",
    "isPalindromez(s)"
   ]
  },
  {
   "cell_type": "code",
   "execution_count": null,
   "id": "8f28002e",
   "metadata": {},
   "outputs": [],
   "source": []
  }
 ],
 "metadata": {
  "kernelspec": {
   "display_name": "super-ai-env",
   "language": "python",
   "name": "python3"
  },
  "language_info": {
   "codemirror_mode": {
    "name": "ipython",
    "version": 3
   },
   "file_extension": ".py",
   "mimetype": "text/x-python",
   "name": "python",
   "nbconvert_exporter": "python",
   "pygments_lexer": "ipython3",
   "version": "3.10.18"
  }
 },
 "nbformat": 4,
 "nbformat_minor": 5
}
