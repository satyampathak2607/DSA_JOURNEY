{
 "cells": [
  {
   "cell_type": "markdown",
   "id": "11d34617",
   "metadata": {},
   "source": [
    "Complete the function printNumber which takes an integer input from the user and prints it on the screen.\n",
    "\n",
    "\n",
    "\n",
    "Use:-\n",
    "\n",
    "for C++ : cout << variable_name;\n",
    "for Java : System.out.print();\n",
    "for Python : print()\n",
    "for Javascript : console.log()"
   ]
  },
  {
   "cell_type": "code",
   "execution_count": 3,
   "id": "0b5723de",
   "metadata": {},
   "outputs": [
    {
     "name": "stdout",
     "output_type": "stream",
     "text": [
      "2\n"
     ]
    }
   ],
   "source": [
    "class Solution:\n",
    "    def __init__(self, *args, **kwargs):\n",
    "        pass\n",
    "    def printNumber(self):\n",
    "        num = int(input(\"Enter a number: \"))\n",
    "        print(num)\n",
    "s = Solution()\n",
    "s.printNumber()"
   ]
  },
  {
   "cell_type": "code",
   "execution_count": null,
   "id": "f5218e61",
   "metadata": {},
   "outputs": [],
   "source": [
    "class Solution:\n",
    "     def printNumber(self):\n",
    "        num = 100\n",
    "        print(num)\n",
    "s = Solution()\n",
    "s.printNumber()\n"
   ]
  },
  {
   "cell_type": "markdown",
   "id": "f3d0b9a7",
   "metadata": {},
   "source": [
    "Find the maximum of two numbers."
   ]
  },
  {
   "cell_type": "code",
   "execution_count": 5,
   "id": "ce46936d",
   "metadata": {},
   "outputs": [
    {
     "name": "stdout",
     "output_type": "stream",
     "text": [
      "111111 is the maximum number "
     ]
    }
   ],
   "source": [
    "a = int(input())\n",
    "b = int(input())\n",
    "\n",
    "max_num = max(a, b)\n",
    "print(max_num, \"is the maximum number\", end=' ')"
   ]
  },
  {
   "attachments": {
    "image.png": {
     "image/png": "[encoded data removed]"
    }
   },
   "cell_type": "markdown",
   "id": "253e7f64",
   "metadata": {},
   "source": [
    "Level 1 – Warm-up → Medium\n",
    "\n",
    "👉 Problem: Print a pyramid pattern of * of height N.\n",
    "Example for N=5:\n",
    "\n",
    "\n",
    "![image.png](attachment:image.png)\n"
   ]
  },
  {
   "cell_type": "code",
   "execution_count": 12,
   "id": "d0bd1f47",
   "metadata": {},
   "outputs": [
    {
     "name": "stdout",
     "output_type": "stream",
     "text": [
      "*\n",
      "***\n",
      "*****\n",
      "*******\n",
      "*********\n"
     ]
    }
   ],
   "source": [
    "def print_pyramid(N):\n",
    "    for i in range(N):\n",
    "        print('*' * (2*i+1))\n",
    "\n",
    "N = int(input(\"Enter the height of the pyramid: \"))\n",
    "print_pyramid(N)"
   ]
  },
  {
   "cell_type": "code",
   "execution_count": null,
   "id": "7788aa05",
   "metadata": {},
   "outputs": [
    {
     "name": "stdout",
     "output_type": "stream",
     "text": [
      "    *    \n",
      "   ***   \n",
      "  *****  \n",
      " ******* \n",
      "*********\n"
     ]
    }
   ],
   "source": [
    "# 2 pointers from base\n",
    "def print_pyramid(N):\n",
    "    rows = []\n",
    "    L = 0\n",
    "    R = 2*N - 2  ## 2n-1 stars ... and end mein hai.. so.. 2n-2 index\n",
    "    spaces = 2*N - 1 \n",
    "    for i in range(N):\n",
    "        row = ''\n",
    "        for j in range(spaces):\n",
    "            if L <= j <= R:  # between L and R, print star\n",
    "                row += '*'\n",
    "            else:\n",
    "                row += ' '\n",
    "        rows.append(row)\n",
    "        L += 1\n",
    "        R -= 1\n",
    "    for row in reversed(rows):\n",
    "         print(row)\n",
    "\n",
    "N = int(input(\"Enter the height of the pyramid: \"))\n",
    "print_pyramid(N)"
   ]
  },
  {
   "cell_type": "code",
   "execution_count": 15,
   "id": "2a8de242",
   "metadata": {},
   "outputs": [
    {
     "name": "stdout",
     "output_type": "stream",
     "text": [
      "    *    \n",
      "   ***   \n",
      "  *****  \n",
      " ******* \n",
      "*********\n"
     ]
    }
   ],
   "source": [
    "N = int(input(\"Enter the height of the pyramid: \"))\n",
    "\n",
    "for i in range(1, N+1):\n",
    "    spaces = \" \" *(N-i)\n",
    "    stars = \"*\" *(2*i-1)\n",
    "    print(spaces + stars + spaces)\n",
    "\n"
   ]
  },
  {
   "cell_type": "code",
   "execution_count": null,
   "id": "099f41ec",
   "metadata": {},
   "outputs": [],
   "source": []
  }
 ],
 "metadata": {
  "kernelspec": {
   "display_name": "super-ai-env",
   "language": "python",
   "name": "python3"
  },
  "language_info": {
   "codemirror_mode": {
    "name": "ipython",
    "version": 3
   },
   "file_extension": ".py",
   "mimetype": "text/x-python",
   "name": "python",
   "nbconvert_exporter": "python",
   "pygments_lexer": "ipython3",
   "version": "3.10.18"
  }
 },
 "nbformat": 4,
 "nbformat_minor": 5
}
