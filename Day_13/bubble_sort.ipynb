{
 "cells": [
  {
   "cell_type": "markdown",
   "id": "9f2895b7",
   "metadata": {},
   "source": [
    "### BUBBLE_SORT"
   ]
  },
  {
   "cell_type": "markdown",
   "id": "d0ca1452",
   "metadata": {},
   "source": [
    "#### my wasted attempt😭"
   ]
  },
  {
   "cell_type": "code",
   "execution_count": null,
   "id": "2c0038a3",
   "metadata": {},
   "outputs": [],
   "source": [
    "nums = [5,8,1,9,6,2]\n",
    "def bubble_sort(nums):\n",
    "  n = len(nums)\n",
    "  p = 0\n",
    "  for i in range(0, n):\n",
    "    if nums[i] > nums[i+1]:\n",
    "      nums[i],nums[i+1] = nums[i+1], nums[i]\n",
    "    p = i+1\n",
    "      for j in range(0, p):\n",
    "\n"
   ]
  },
  {
   "cell_type": "markdown",
   "id": "c5274d60",
   "metadata": {},
   "source": [
    "### CHAD_METHOD IN DESCENDING ORDER LOL🗿🍷"
   ]
  },
  {
   "cell_type": "code",
   "execution_count": 20,
   "id": "60532e63",
   "metadata": {},
   "outputs": [
    {
     "name": "stdout",
     "output_type": "stream",
     "text": [
      "[9, 8, 6, 5, 2, 1]\n"
     ]
    }
   ],
   "source": [
    "nums = [5,8,1,9,6,2]\n",
    "nums.sort(reverse=True)\n",
    "print(nums)"
   ]
  },
  {
   "cell_type": "code",
   "execution_count": 23,
   "id": "07906dca",
   "metadata": {},
   "outputs": [
    {
     "name": "stdout",
     "output_type": "stream",
     "text": [
      "After pass 1: [5, 1, 8, 6, 2, 9]\n",
      "After pass 2: [1, 5, 6, 2, 8, 9]\n",
      "After pass 3: [1, 5, 2, 6, 8, 9]\n",
      "After pass 4: [1, 2, 5, 6, 8, 9]\n",
      "After pass 5: [1, 2, 5, 6, 8, 9]\n"
     ]
    },
    {
     "data": {
      "text/plain": [
       "[1, 2, 5, 6, 8, 9]"
      ]
     },
     "execution_count": 23,
     "metadata": {},
     "output_type": "execute_result"
    }
   ],
   "source": [
    "nums = [5,8,1,9,6,2]\n",
    "def bubble_sort(nums):\n",
    "    n = len(nums)\n",
    "    for i in range(n-1):\n",
    "        for j in range(0, n-i-1): # Last i elements are already sorted\n",
    "            if nums[j] > nums[j+1]:\n",
    "                nums[j], nums[j+1] = nums[j+1], nums[j]\n",
    "        print(f\"After pass {i+1}: {nums}\")\n",
    "    return nums\n",
    "\n",
    "bubble_sort(nums)"
   ]
  },
  {
   "cell_type": "code",
   "execution_count": null,
   "id": "d09276d5",
   "metadata": {},
   "outputs": [
    {
     "data": {
      "text/plain": [
       "[9, 8, 6, 5, 2, 1]"
      ]
     },
     "execution_count": 24,
     "metadata": {},
     "output_type": "execute_result"
    }
   ],
   "source": [
    "## descending order\n",
    "\n",
    "nums = [5,8,1,9,6,2]\n",
    "def sort(nums):\n",
    "    n = len(nums)\n",
    "    for i in range(n-1):\n",
    "        for j in range(0, n-i-1):\n",
    "            if nums[j] < nums[j+1]:\n",
    "                nums[j], nums[j+1] = nums[j+1], nums[j]\n",
    "    return nums\n",
    "sort(nums)"
   ]
  },
  {
   "cell_type": "markdown",
   "id": "9b4b8ea6",
   "metadata": {},
   "source": [
    "## Optimized version"
   ]
  },
  {
   "cell_type": "code",
   "execution_count": null,
   "id": "42ea5a79",
   "metadata": {},
   "outputs": [
    {
     "data": {
      "text/plain": [
       "[1, 2, 5, 6, 8, 9]"
      ]
     },
     "execution_count": 26,
     "metadata": {},
     "output_type": "execute_result"
    }
   ],
   "source": [
    "## best case time complexity O(n)\n",
    "## worst case time complexity O(n^2)\n",
    "\n",
    "nums = [5,8,1,9,6,2]\n",
    "def bubble_sort(nums):\n",
    "    n = len(nums)\n",
    "    for i in range(n-1):\n",
    "        swapped = False\n",
    "        for j in range(0, n-i-1): \n",
    "            if nums[j] > nums[j+1]:\n",
    "                nums[j], nums[j+1] = nums[j+1], nums[j]\n",
    "                swapped = True\n",
    "        if not swapped:\n",
    "            break\n",
    "    return nums\n",
    "bubble_sort(nums)"
   ]
  }
 ],
 "metadata": {
  "kernelspec": {
   "display_name": "super-ai-env",
   "language": "python",
   "name": "python3"
  },
  "language_info": {
   "codemirror_mode": {
    "name": "ipython",
    "version": 3
   },
   "file_extension": ".py",
   "mimetype": "text/x-python",
   "name": "python",
   "nbconvert_exporter": "python",
   "pygments_lexer": "ipython3",
   "version": "3.10.18"
  }
 },
 "nbformat": 4,
 "nbformat_minor": 5
}
