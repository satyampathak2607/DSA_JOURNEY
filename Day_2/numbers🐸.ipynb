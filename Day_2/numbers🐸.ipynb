{
 "cells": [
  {
   "cell_type": "markdown",
   "id": "4fd87870",
   "metadata": {},
   "source": [
    "# Extraction of digits"
   ]
  },
  {
   "cell_type": "code",
   "execution_count": 6,
   "id": "e2f6aea5",
   "metadata": {},
   "outputs": [
    {
     "name": "stdout",
     "output_type": "stream",
     "text": [
      "[5, 8, 7, 3] 4\n"
     ]
    }
   ],
   "source": [
    "n = 5873\n",
    "num = n \n",
    "digits = []\n",
    "while num>0:\n",
    "    digits.append(num%10)\n",
    "    num = num//10\n",
    "digits.reverse()\n",
    "print(digits,len(digits))   "
   ]
  },
  {
   "cell_type": "markdown",
   "id": "4795aff4",
   "metadata": {},
   "source": [
    "# COUNT OF DIGITS"
   ]
  },
  {
   "cell_type": "code",
   "execution_count": 7,
   "id": "027dc587",
   "metadata": {},
   "outputs": [
    {
     "name": "stdout",
     "output_type": "stream",
     "text": [
      "4\n"
     ]
    }
   ],
   "source": [
    "n = 5873\n",
    "print(len(str(n)))  # COUNT OF DIGITS\n",
    "\n",
    "# not recommended but WHO THE FUCK CARES?"
   ]
  },
  {
   "cell_type": "code",
   "execution_count": 8,
   "id": "f4a71ff5",
   "metadata": {},
   "outputs": [
    {
     "name": "stdout",
     "output_type": "stream",
     "text": [
      "4\n"
     ]
    }
   ],
   "source": [
    "import math\n",
    "\n",
    "n = 5873\n",
    "print(int(math.log10(n))+1)"
   ]
  },
  {
   "cell_type": "code",
   "execution_count": 9,
   "id": "0635f629",
   "metadata": {},
   "outputs": [
    {
     "name": "stdout",
     "output_type": "stream",
     "text": [
      "4\n"
     ]
    }
   ],
   "source": [
    "n = 5873\n",
    "num = n\n",
    "count = 0\n",
    "while num>0:\n",
    "    num = num//10\n",
    "    count += 1\n",
    "print(count)"
   ]
  },
  {
   "cell_type": "markdown",
   "id": "d2754bc1",
   "metadata": {},
   "source": [
    "# PALINDROME CHECK"
   ]
  },
  {
   "cell_type": "code",
   "execution_count": 10,
   "id": "f63c8425",
   "metadata": {},
   "outputs": [
    {
     "name": "stdout",
     "output_type": "stream",
     "text": [
      "not palindrome\n"
     ]
    }
   ],
   "source": [
    "n = 787\n",
    "\n",
    "digits = []\n",
    "while n>0:\n",
    "    digits.append(n%10)\n",
    "    n = n//10\n",
    "\n",
    "if digits == digits.reverse():\n",
    "    print(\"palindrome\")\n",
    "else:\n",
    "    print(\"not palindrome\")\n",
    "\n",
    "\n",
    "### BUG HAI BC\n",
    "# explaination ->  digits.reverse() returnes None ... so  digits == digits.reverse() returnes false even if its a palindrome\n",
    "\n",
    "\n"
   ]
  },
  {
   "cell_type": "code",
   "execution_count": 11,
   "id": "ef57a063",
   "metadata": {},
   "outputs": [
    {
     "name": "stdout",
     "output_type": "stream",
     "text": [
      "palindrome\n"
     ]
    }
   ],
   "source": [
    "n = 787\n",
    "\n",
    "digits = []\n",
    "while n>0:\n",
    "    digits.append(n%10)\n",
    "    n = n//10\n",
    "\n",
    "rev = digits.copy()\n",
    "rev.reverse()\n",
    "\n",
    "if digits == rev:\n",
    "    print(\"palindrome\")\n",
    "else:\n",
    "    print(\"not palindrome\")"
   ]
  },
  {
   "cell_type": "code",
   "execution_count": 12,
   "id": "db02fc55",
   "metadata": {},
   "outputs": [
    {
     "name": "stdout",
     "output_type": "stream",
     "text": [
      "palindrome\n"
     ]
    }
   ],
   "source": [
    "n = 787\n",
    "\n",
    "digits = []\n",
    "while n>0:\n",
    "    digits.append(n%10)\n",
    "    n = n//10\n",
    "\n",
    "if digits == digits[::-1]:\n",
    "    print(\"palindrome\")\n",
    "else:\n",
    "    print(\"not palindrome\")\n",
    "#optimal till now"
   ]
  },
  {
   "cell_type": "code",
   "execution_count": 16,
   "id": "8b777069",
   "metadata": {},
   "outputs": [
    {
     "name": "stdout",
     "output_type": "stream",
     "text": [
      "palindrome\n"
     ]
    }
   ],
   "source": [
    "n = 676\n",
    "num = n\n",
    "result = 0\n",
    "while num>0:\n",
    "    ld = num % 10\n",
    "    result = (result * 10) + ld\n",
    "    num = num // 10\n",
    "\n",
    "if result == n:\n",
    "    print(\"palindrome\")\n",
    "else:\n",
    "    print(\"not palindrome\")\n",
    "\n",
    "\n"
   ]
  },
  {
   "cell_type": "code",
   "execution_count": null,
   "id": "a4921270",
   "metadata": {},
   "outputs": [],
   "source": []
  }
 ],
 "metadata": {
  "kernelspec": {
   "display_name": "super-ai-env",
   "language": "python",
   "name": "python3"
  },
  "language_info": {
   "codemirror_mode": {
    "name": "ipython",
    "version": 3
   },
   "file_extension": ".py",
   "mimetype": "text/x-python",
   "name": "python",
   "nbconvert_exporter": "python",
   "pygments_lexer": "ipython3",
   "version": "3.10.18"
  }
 },
 "nbformat": 4,
 "nbformat_minor": 5
}
