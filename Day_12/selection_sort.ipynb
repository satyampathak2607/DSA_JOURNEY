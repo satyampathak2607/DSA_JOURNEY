{
 "cells": [
  {
   "cell_type": "markdown",
   "id": "c18260f2",
   "metadata": {},
   "source": [
    "## Selection Sort\n"
   ]
  },
  {
   "cell_type": "code",
   "execution_count": 1,
   "id": "e4f68487",
   "metadata": {},
   "outputs": [
    {
     "name": "stdout",
     "output_type": "stream",
     "text": [
      "Sorted array is: [11, 12, 22, 25, 64]\n"
     ]
    }
   ],
   "source": [
    "nums = [64, 25, 12, 22, 11]\n",
    "n = len(nums)\n",
    "for i in range(n):\n",
    "    min_idx = i\n",
    "    for j in range(i+1,n):\n",
    "        if nums[j] < nums[min_idx]:\n",
    "            min_idx = j\n",
    "    nums[i],nums[min_idx] = nums[min_idx],nums[i]\n",
    "print(\"Sorted array is:\", nums)\n"
   ]
  },
  {
   "cell_type": "markdown",
   "id": "218616bf",
   "metadata": {},
   "source": [
    "#### EASY WAY 🗿✨"
   ]
  },
  {
   "cell_type": "code",
   "execution_count": 3,
   "id": "ef4aaec5",
   "metadata": {},
   "outputs": [
    {
     "name": "stdout",
     "output_type": "stream",
     "text": [
      "Sorted array is: [11, 12, 22, 25, 64]\n"
     ]
    }
   ],
   "source": [
    "\n",
    "nums = [64, 25, 12, 22, 11]\n",
    "nums.sort()\n",
    "print(\"Sorted array is:\", nums)\n"
   ]
  },
  {
   "cell_type": "code",
   "execution_count": 4,
   "id": "606a5978",
   "metadata": {},
   "outputs": [
    {
     "name": "stdout",
     "output_type": "stream",
     "text": [
      "Sorted array is: [11, 12, 22, 25, 64]\n"
     ]
    }
   ],
   "source": [
    "nums = [64, 25, 12, 22, 11]\n",
    "def selection_sort(nums):\n",
    "    n = len(nums)\n",
    "    for i in range(0,n):\n",
    "        min_idx = i\n",
    "        for j in range(i+1,n):\n",
    "            if nums[j] < nums[min_idx]:\n",
    "                min_idx = j \n",
    "        nums[i],nums[min_idx] = nums[min_idx],nums[i]\n",
    "    return nums\n",
    "print(\"Sorted array is:\", selection_sort(nums))\n",
    "\n",
    " "
   ]
  },
  {
   "cell_type": "markdown",
   "id": "a4a9d478",
   "metadata": {},
   "source": [
    "## REVERSE"
   ]
  },
  {
   "cell_type": "code",
   "execution_count": 5,
   "id": "e554303d",
   "metadata": {},
   "outputs": [
    {
     "name": "stdout",
     "output_type": "stream",
     "text": [
      "Sorted array in reverse order is: [64, 25, 22, 12, 11]\n"
     ]
    }
   ],
   "source": [
    "nums = [64, 25, 12, 22, 11]\n",
    "def selection_sort(nums):\n",
    "    n = len(nums)\n",
    "    for i in range (n):\n",
    "        max_idx = i\n",
    "        for j in range (i+1,n):\n",
    "            if nums[j] > nums[max_idx]:\n",
    "                max_idx = j\n",
    "        nums[i],nums[max_idx] = nums[max_idx],nums[i]\n",
    "    return nums\n",
    "print(\"Sorted array in reverse order is:\", selection_sort(nums))"
   ]
  },
  {
   "cell_type": "code",
   "execution_count": null,
   "id": "1f8b11b0",
   "metadata": {},
   "outputs": [],
   "source": []
  }
 ],
 "metadata": {
  "kernelspec": {
   "display_name": "super-ai-env",
   "language": "python",
   "name": "python3"
  },
  "language_info": {
   "codemirror_mode": {
    "name": "ipython",
    "version": 3
   },
   "file_extension": ".py",
   "mimetype": "text/x-python",
   "name": "python",
   "nbconvert_exporter": "python",
   "pygments_lexer": "ipython3",
   "version": "3.10.18"
  }
 },
 "nbformat": 4,
 "nbformat_minor": 5
}
