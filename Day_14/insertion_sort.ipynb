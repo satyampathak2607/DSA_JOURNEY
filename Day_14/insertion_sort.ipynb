{
 "cells": [
  {
   "cell_type": "markdown",
   "id": "a91d56f0",
   "metadata": {},
   "source": [
    "## Insertion_SORT"
   ]
  },
  {
   "cell_type": "markdown",
   "id": "2cb9a442",
   "metadata": {},
   "source": [
    "### CHAD_WAY🗿🍷"
   ]
  },
  {
   "cell_type": "code",
   "execution_count": 5,
   "id": "96c8ca00",
   "metadata": {},
   "outputs": [
    {
     "name": "stdout",
     "output_type": "stream",
     "text": [
      "[1, 7, 10, 9, 8, 4, 6, 5, 3]\n"
     ]
    }
   ],
   "source": [
    "nums = [3,5,6,4,8,9,10,7,1]\n",
    "nums.reverse()\n",
    "print(nums)"
   ]
  },
  {
   "cell_type": "code",
   "execution_count": 1,
   "id": "42958277",
   "metadata": {},
   "outputs": [
    {
     "data": {
      "text/plain": [
       "[1, 3, 4, 5, 6, 7, 8, 9, 10]"
      ]
     },
     "execution_count": 1,
     "metadata": {},
     "output_type": "execute_result"
    }
   ],
   "source": [
    "nums = [3,5,6,4,8,9,10,7,1]\n",
    "def insertion_sort(nums):\n",
    "    n = len(nums)\n",
    "    for i in range(1,n):\n",
    "        key = nums[i]\n",
    "        j = i-1\n",
    "\n",
    "        while j>=0 and nums[j] > key:\n",
    "            nums[j+1] = nums[j]\n",
    "            j-=1\n",
    "\n",
    "        nums[j+1] = key\n",
    "\n",
    "    return nums\n",
    "\n",
    "insertion_sort(nums)\n",
    "\n",
    "\n"
   ]
  },
  {
   "cell_type": "markdown",
   "id": "ab836746",
   "metadata": {},
   "source": [
    "## in reverse"
   ]
  },
  {
   "cell_type": "code",
   "execution_count": 2,
   "id": "9088590e",
   "metadata": {},
   "outputs": [
    {
     "data": {
      "text/plain": [
       "[10, 9, 8, 7, 6, 5, 4, 3, 1]"
      ]
     },
     "execution_count": 2,
     "metadata": {},
     "output_type": "execute_result"
    }
   ],
   "source": [
    "nums = [3,5,6,4,8,9,10,7,1]\n",
    "def insertionn_sort(nums):\n",
    "    n = len(nums)\n",
    "    for i in range(1,n):\n",
    "        key = nums[i]\n",
    "        j = i-1\n",
    "        while j>=0 and key> nums[j]:\n",
    "            nums[j+1] = nums[j]\n",
    "            j-=1\n",
    "        nums[j+1] = key\n",
    "\n",
    "    return nums\n",
    "insertionn_sort(nums)\n"
   ]
  },
  {
   "cell_type": "markdown",
   "id": "c4146598",
   "metadata": {},
   "source": [
    "### CHAD_WAY🗿🍷"
   ]
  },
  {
   "cell_type": "code",
   "execution_count": 6,
   "id": "5ccb90d3",
   "metadata": {},
   "outputs": [
    {
     "name": "stdout",
     "output_type": "stream",
     "text": [
      "[10, 9, 8, 7, 6, 5, 4, 3, 1]\n"
     ]
    }
   ],
   "source": [
    "nums = [3,5,6,4,8,9,10,7,1]\n",
    "nums.sort(reverse= True)\n",
    "print(nums)\n"
   ]
  },
  {
   "cell_type": "code",
   "execution_count": null,
   "id": "6061c7d1",
   "metadata": {},
   "outputs": [],
   "source": []
  }
 ],
 "metadata": {
  "kernelspec": {
   "display_name": "super-ai-env",
   "language": "python",
   "name": "python3"
  },
  "language_info": {
   "codemirror_mode": {
    "name": "ipython",
    "version": 3
   },
   "file_extension": ".py",
   "mimetype": "text/x-python",
   "name": "python",
   "nbconvert_exporter": "python",
   "pygments_lexer": "ipython3",
   "version": "3.10.18"
  }
 },
 "nbformat": 4,
 "nbformat_minor": 5
}
