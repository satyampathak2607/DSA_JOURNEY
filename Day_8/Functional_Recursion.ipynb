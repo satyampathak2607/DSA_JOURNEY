{
 "cells": [
  {
   "cell_type": "markdown",
   "id": "24b604f0",
   "metadata": {},
   "source": [
    "## SUM OF 1 to N"
   ]
  },
  {
   "cell_type": "code",
   "execution_count": 7,
   "id": "639ba993",
   "metadata": {},
   "outputs": [
    {
     "name": "stdout",
     "output_type": "stream",
     "text": [
      "9\n",
      "8\n",
      "7\n",
      "6\n"
     ]
    }
   ],
   "source": [
    "def func(i,n):\n",
    "    if i >= n:\n",
    "        return \n",
    "    func(i+1,n)\n",
    "    print(i+n)\n",
    "\n",
    "func(1,5)\n"
   ]
  },
  {
   "cell_type": "markdown",
   "id": "eb628731",
   "metadata": {},
   "source": [
    "### 2nd attempt but still messy as hell 😭😭😭"
   ]
  },
  {
   "cell_type": "code",
   "execution_count": 29,
   "id": "4b670ac2",
   "metadata": {},
   "outputs": [
    {
     "name": "stdout",
     "output_type": "stream",
     "text": [
      "5050\n",
      "[100, 99, 98, 97, 96, 95, 94, 93, 92, 91, 90, 89, 88, 87, 86, 85, 84, 83, 82, 81, 80, 79, 78, 77, 76, 75, 74, 73, 72, 71, 70, 69, 68, 67, 66, 65, 64, 63, 62, 61, 60, 59, 58, 57, 56, 55, 54, 53, 52, 51, 50, 49, 48, 47, 46, 45, 44, 43, 42, 41, 40, 39, 38, 37, 36, 35, 34, 33, 32, 31, 30, 29, 28, 27, 26, 25, 24, 23, 22, 21, 20, 19, 18, 17, 16, 15, 14, 13, 12, 11, 10, 9, 8, 7, 6, 5, 4, 3, 2, 1, 0]\n"
     ]
    }
   ],
   "source": [
    "x = []\n",
    "def func(n):\n",
    "    global x\n",
    "    x.append(n)\n",
    "    if n ==0:\n",
    "        return\n",
    "    func(n-1)\n",
    "    \n",
    "   \n",
    "func(100)\n",
    "print(sum(x))\n",
    "print(x)\n"
   ]
  },
  {
   "cell_type": "code",
   "execution_count": 30,
   "id": "545eb7ed",
   "metadata": {},
   "outputs": [
    {
     "name": "stdout",
     "output_type": "stream",
     "text": [
      "5050\n"
     ]
    }
   ],
   "source": [
    "def sum_n(n):\n",
    "    if n == 0:\n",
    "        return 0\n",
    "    return n + sum_n(n - 1)\n",
    "\n",
    "print(sum_n(100))\n"
   ]
  },
  {
   "cell_type": "code",
   "execution_count": 5,
   "id": "559831fb",
   "metadata": {},
   "outputs": [
    {
     "data": {
      "text/plain": [
       "5050"
      ]
     },
     "execution_count": 5,
     "metadata": {},
     "output_type": "execute_result"
    }
   ],
   "source": [
    "def func(sum,i,n):\n",
    "    if i > n:\n",
    "        return sum\n",
    "    return func(sum+i,i+1,n)\n",
    "\n",
    "(func(0,1,100))"
   ]
  },
  {
   "cell_type": "code",
   "execution_count": 7,
   "id": "1cf58d3f",
   "metadata": {},
   "outputs": [
    {
     "name": "stdout",
     "output_type": "stream",
     "text": [
      "6\n"
     ]
    }
   ],
   "source": [
    "\n",
    "def func(sum,i,n):\n",
    "    if i > n:\n",
    "        print(sum) \n",
    "        return\n",
    "    func(sum+i,i+1,n)\n",
    "(func(0,1,3))"
   ]
  }
 ],
 "metadata": {
  "kernelspec": {
   "display_name": "super-ai-env",
   "language": "python",
   "name": "python3"
  },
  "language_info": {
   "codemirror_mode": {
    "name": "ipython",
    "version": 3
   },
   "file_extension": ".py",
   "mimetype": "text/x-python",
   "name": "python",
   "nbconvert_exporter": "python",
   "pygments_lexer": "ipython3",
   "version": "3.10.18"
  }
 },
 "nbformat": 4,
 "nbformat_minor": 5
}
