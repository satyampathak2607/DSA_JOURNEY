{
 "cells": [
  {
   "cell_type": "markdown",
   "id": "1f647af0",
   "metadata": {},
   "source": []
  },
  {
   "cell_type": "code",
   "execution_count": null,
   "id": "96f8757b",
   "metadata": {},
   "outputs": [
    {
     "name": "stdout",
     "output_type": "stream",
     "text": [
      "Palindrome\n"
     ]
    }
   ],
   "source": [
    "s = \"nitin\"\n",
    "\n",
    "def x(s,L,R):\n",
    "    if s[L] != s[R]:\n",
    "        print(\"Not a palindrome\")\n",
    "        return\n",
    "    if L >= R:\n",
    "        print(\"Palindrome\")\n",
    "        return\n",
    "    x(s,L+1,R-1)\n",
    "x(s,0,len(s)-1)\n",
    "\n"
   ]
  },
  {
   "cell_type": "code",
   "execution_count": 14,
   "id": "6265a7b9",
   "metadata": {},
   "outputs": [
    {
     "data": {
      "text/plain": [
       "True"
      ]
     },
     "execution_count": 14,
     "metadata": {},
     "output_type": "execute_result"
    }
   ],
   "source": [
    "s = \"nitin\"\n",
    "def palindrome_check(s,L,R):\n",
    "    if L >= R:\n",
    "        return True\n",
    "    if s[L] != s[R]:\n",
    "        return False\n",
    "    return palindrome_check(s,L+1,R-1)\n",
    "\n",
    "palindrome_check(s,0,len(s)-1)\n",
    "\n"
   ]
  },
  {
   "cell_type": "code",
   "execution_count": 2,
   "id": "657c9798",
   "metadata": {},
   "outputs": [
    {
     "data": {
      "text/plain": [
       "True"
      ]
     },
     "execution_count": 2,
     "metadata": {},
     "output_type": "execute_result"
    }
   ],
   "source": [
    "s = \"nitin\"\n",
    "def is_palindrome(s):\n",
    "    n = len(s)\n",
    "    l = 0\n",
    "    r = n - 1\n",
    "    while l < r:\n",
    "        if s[l] != s[r]:\n",
    "            return False\n",
    "            \n",
    "        l += 1\n",
    "        r -= 1\n",
    "    return True\n",
    "\n",
    "is_palindrome(s)\n"
   ]
  }
 ],
 "metadata": {
  "kernelspec": {
   "display_name": "super-ai-env",
   "language": "python",
   "name": "python3"
  },
  "language_info": {
   "codemirror_mode": {
    "name": "ipython",
    "version": 3
   },
   "file_extension": ".py",
   "mimetype": "text/x-python",
   "name": "python",
   "nbconvert_exporter": "python",
   "pygments_lexer": "ipython3",
   "version": "3.10.18"
  }
 },
 "nbformat": 4,
 "nbformat_minor": 5
}
